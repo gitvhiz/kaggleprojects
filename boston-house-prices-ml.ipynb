{
 "cells": [
  {
   "cell_type": "code",
   "execution_count": 1,
   "id": "160ca6a2",
   "metadata": {
    "_cell_guid": "b1076dfc-b9ad-4769-8c92-a6c4dae69d19",
    "_uuid": "8f2839f25d086af736a60e9eeb907d3b93b6e0e5",
    "execution": {
     "iopub.execute_input": "2023-05-02T18:51:23.991914Z",
     "iopub.status.busy": "2023-05-02T18:51:23.991005Z",
     "iopub.status.idle": "2023-05-02T18:51:24.010981Z",
     "shell.execute_reply": "2023-05-02T18:51:24.009805Z"
    },
    "papermill": {
     "duration": 0.034495,
     "end_time": "2023-05-02T18:51:24.013441",
     "exception": false,
     "start_time": "2023-05-02T18:51:23.978946",
     "status": "completed"
    },
    "tags": []
   },
   "outputs": [
    {
     "name": "stdout",
     "output_type": "stream",
     "text": [
      "/kaggle/input/boston-house-prices/housing.csv\n"
     ]
    }
   ],
   "source": [
    "# This Python 3 environment comes with many helpful analytics libraries installed\n",
    "# It is defined by the kaggle/python Docker image: https://github.com/kaggle/docker-python\n",
    "# For example, here's several helpful packages to load\n",
    "\n",
    "import numpy as np # linear algebra\n",
    "import pandas as pd # data processing, CSV file I/O (e.g. pd.read_csv)\n",
    "\n",
    "# Input data files are available in the read-only \"../input/\" directory\n",
    "# For example, running this (by clicking run or pressing Shift+Enter) will list all files under the input directory\n",
    "\n",
    "import os\n",
    "for dirname, _, filenames in os.walk('/kaggle/input'):\n",
    "    for filename in filenames:\n",
    "        print(os.path.join(dirname, filename))\n",
    "\n",
    "# You can write up to 20GB to the current directory (/kaggle/working/) that gets preserved as output when you create a version using \"Save & Run All\" \n",
    "# You can also write temporary files to /kaggle/temp/, but they won't be saved outside of the current session"
   ]
  },
  {
   "cell_type": "markdown",
   "id": "c1e186b8",
   "metadata": {
    "papermill": {
     "duration": 0.009611,
     "end_time": "2023-05-02T18:51:24.033088",
     "exception": false,
     "start_time": "2023-05-02T18:51:24.023477",
     "status": "completed"
    },
    "tags": []
   },
   "source": [
    "I will be using a Decision Tree Regression Algorithm to model on this dataset. I will predict the median value of the house based on the other features given in the Housing Prices Dataset."
   ]
  },
  {
   "cell_type": "markdown",
   "id": "c673a4bd",
   "metadata": {
    "papermill": {
     "duration": 0.009436,
     "end_time": "2023-05-02T18:51:24.052131",
     "exception": false,
     "start_time": "2023-05-02T18:51:24.042695",
     "status": "completed"
    },
    "tags": []
   },
   "source": [
    "## Importing Required Libraries"
   ]
  },
  {
   "cell_type": "code",
   "execution_count": 2,
   "id": "1b035b49",
   "metadata": {
    "execution": {
     "iopub.execute_input": "2023-05-02T18:51:24.074193Z",
     "iopub.status.busy": "2023-05-02T18:51:24.073400Z",
     "iopub.status.idle": "2023-05-02T18:51:24.078431Z",
     "shell.execute_reply": "2023-05-02T18:51:24.077709Z"
    },
    "papermill": {
     "duration": 0.018813,
     "end_time": "2023-05-02T18:51:24.080730",
     "exception": false,
     "start_time": "2023-05-02T18:51:24.061917",
     "status": "completed"
    },
    "tags": []
   },
   "outputs": [],
   "source": [
    "import numpy as np\n",
    "import matplotlib.pyplot as plt\n",
    "import pandas as pd\n",
    "import warnings\n",
    "warnings.filterwarnings('ignore')"
   ]
  },
  {
   "cell_type": "markdown",
   "id": "5b177a50",
   "metadata": {
    "papermill": {
     "duration": 0.009265,
     "end_time": "2023-05-02T18:51:24.099537",
     "exception": false,
     "start_time": "2023-05-02T18:51:24.090272",
     "status": "completed"
    },
    "tags": []
   },
   "source": [
    "## Importing the Dataset"
   ]
  },
  {
   "cell_type": "code",
   "execution_count": 3,
   "id": "e2b76d31",
   "metadata": {
    "execution": {
     "iopub.execute_input": "2023-05-02T18:51:24.121192Z",
     "iopub.status.busy": "2023-05-02T18:51:24.120393Z",
     "iopub.status.idle": "2023-05-02T18:51:24.147067Z",
     "shell.execute_reply": "2023-05-02T18:51:24.145639Z"
    },
    "papermill": {
     "duration": 0.041235,
     "end_time": "2023-05-02T18:51:24.150314",
     "exception": false,
     "start_time": "2023-05-02T18:51:24.109079",
     "status": "completed"
    },
    "tags": []
   },
   "outputs": [],
   "source": [
    "dataset = pd.read_csv(\"/kaggle/input/boston-house-prices/housing.csv\", delim_whitespace = True, header = None)"
   ]
  },
  {
   "cell_type": "markdown",
   "id": "5e4a63f2",
   "metadata": {
    "papermill": {
     "duration": 0.010223,
     "end_time": "2023-05-02T18:51:24.170784",
     "exception": false,
     "start_time": "2023-05-02T18:51:24.160561",
     "status": "completed"
    },
    "tags": []
   },
   "source": [
    "## Visualising the Data"
   ]
  },
  {
   "cell_type": "code",
   "execution_count": 4,
   "id": "7cb2b30c",
   "metadata": {
    "execution": {
     "iopub.execute_input": "2023-05-02T18:51:24.191977Z",
     "iopub.status.busy": "2023-05-02T18:51:24.191460Z",
     "iopub.status.idle": "2023-05-02T18:51:24.234494Z",
     "shell.execute_reply": "2023-05-02T18:51:24.233381Z"
    },
    "papermill": {
     "duration": 0.056315,
     "end_time": "2023-05-02T18:51:24.236781",
     "exception": false,
     "start_time": "2023-05-02T18:51:24.180466",
     "status": "completed"
    },
    "tags": []
   },
   "outputs": [
    {
     "data": {
      "text/html": [
       "<div>\n",
       "<style scoped>\n",
       "    .dataframe tbody tr th:only-of-type {\n",
       "        vertical-align: middle;\n",
       "    }\n",
       "\n",
       "    .dataframe tbody tr th {\n",
       "        vertical-align: top;\n",
       "    }\n",
       "\n",
       "    .dataframe thead th {\n",
       "        text-align: right;\n",
       "    }\n",
       "</style>\n",
       "<table border=\"1\" class=\"dataframe\">\n",
       "  <thead>\n",
       "    <tr style=\"text-align: right;\">\n",
       "      <th></th>\n",
       "      <th>0</th>\n",
       "      <th>1</th>\n",
       "      <th>2</th>\n",
       "      <th>3</th>\n",
       "      <th>4</th>\n",
       "      <th>5</th>\n",
       "      <th>6</th>\n",
       "      <th>7</th>\n",
       "      <th>8</th>\n",
       "      <th>9</th>\n",
       "      <th>10</th>\n",
       "      <th>11</th>\n",
       "      <th>12</th>\n",
       "      <th>13</th>\n",
       "    </tr>\n",
       "  </thead>\n",
       "  <tbody>\n",
       "    <tr>\n",
       "      <th>0</th>\n",
       "      <td>0.00632</td>\n",
       "      <td>18.0</td>\n",
       "      <td>2.31</td>\n",
       "      <td>0</td>\n",
       "      <td>0.538</td>\n",
       "      <td>6.575</td>\n",
       "      <td>65.2</td>\n",
       "      <td>4.0900</td>\n",
       "      <td>1</td>\n",
       "      <td>296.0</td>\n",
       "      <td>15.3</td>\n",
       "      <td>396.90</td>\n",
       "      <td>4.98</td>\n",
       "      <td>24.0</td>\n",
       "    </tr>\n",
       "    <tr>\n",
       "      <th>1</th>\n",
       "      <td>0.02731</td>\n",
       "      <td>0.0</td>\n",
       "      <td>7.07</td>\n",
       "      <td>0</td>\n",
       "      <td>0.469</td>\n",
       "      <td>6.421</td>\n",
       "      <td>78.9</td>\n",
       "      <td>4.9671</td>\n",
       "      <td>2</td>\n",
       "      <td>242.0</td>\n",
       "      <td>17.8</td>\n",
       "      <td>396.90</td>\n",
       "      <td>9.14</td>\n",
       "      <td>21.6</td>\n",
       "    </tr>\n",
       "    <tr>\n",
       "      <th>2</th>\n",
       "      <td>0.02729</td>\n",
       "      <td>0.0</td>\n",
       "      <td>7.07</td>\n",
       "      <td>0</td>\n",
       "      <td>0.469</td>\n",
       "      <td>7.185</td>\n",
       "      <td>61.1</td>\n",
       "      <td>4.9671</td>\n",
       "      <td>2</td>\n",
       "      <td>242.0</td>\n",
       "      <td>17.8</td>\n",
       "      <td>392.83</td>\n",
       "      <td>4.03</td>\n",
       "      <td>34.7</td>\n",
       "    </tr>\n",
       "    <tr>\n",
       "      <th>3</th>\n",
       "      <td>0.03237</td>\n",
       "      <td>0.0</td>\n",
       "      <td>2.18</td>\n",
       "      <td>0</td>\n",
       "      <td>0.458</td>\n",
       "      <td>6.998</td>\n",
       "      <td>45.8</td>\n",
       "      <td>6.0622</td>\n",
       "      <td>3</td>\n",
       "      <td>222.0</td>\n",
       "      <td>18.7</td>\n",
       "      <td>394.63</td>\n",
       "      <td>2.94</td>\n",
       "      <td>33.4</td>\n",
       "    </tr>\n",
       "    <tr>\n",
       "      <th>4</th>\n",
       "      <td>0.06905</td>\n",
       "      <td>0.0</td>\n",
       "      <td>2.18</td>\n",
       "      <td>0</td>\n",
       "      <td>0.458</td>\n",
       "      <td>7.147</td>\n",
       "      <td>54.2</td>\n",
       "      <td>6.0622</td>\n",
       "      <td>3</td>\n",
       "      <td>222.0</td>\n",
       "      <td>18.7</td>\n",
       "      <td>396.90</td>\n",
       "      <td>5.33</td>\n",
       "      <td>36.2</td>\n",
       "    </tr>\n",
       "  </tbody>\n",
       "</table>\n",
       "</div>"
      ],
      "text/plain": [
       "        0     1     2   3      4      5     6       7   8      9     10  \\\n",
       "0  0.00632  18.0  2.31   0  0.538  6.575  65.2  4.0900   1  296.0  15.3   \n",
       "1  0.02731   0.0  7.07   0  0.469  6.421  78.9  4.9671   2  242.0  17.8   \n",
       "2  0.02729   0.0  7.07   0  0.469  7.185  61.1  4.9671   2  242.0  17.8   \n",
       "3  0.03237   0.0  2.18   0  0.458  6.998  45.8  6.0622   3  222.0  18.7   \n",
       "4  0.06905   0.0  2.18   0  0.458  7.147  54.2  6.0622   3  222.0  18.7   \n",
       "\n",
       "       11    12    13  \n",
       "0  396.90  4.98  24.0  \n",
       "1  396.90  9.14  21.6  \n",
       "2  392.83  4.03  34.7  \n",
       "3  394.63  2.94  33.4  \n",
       "4  396.90  5.33  36.2  "
      ]
     },
     "execution_count": 4,
     "metadata": {},
     "output_type": "execute_result"
    }
   ],
   "source": [
    "dataset.head()"
   ]
  },
  {
   "cell_type": "code",
   "execution_count": 5,
   "id": "083ecb7a",
   "metadata": {
    "execution": {
     "iopub.execute_input": "2023-05-02T18:51:24.258590Z",
     "iopub.status.busy": "2023-05-02T18:51:24.258212Z",
     "iopub.status.idle": "2023-05-02T18:51:24.264002Z",
     "shell.execute_reply": "2023-05-02T18:51:24.262898Z"
    },
    "papermill": {
     "duration": 0.019519,
     "end_time": "2023-05-02T18:51:24.266348",
     "exception": false,
     "start_time": "2023-05-02T18:51:24.246829",
     "status": "completed"
    },
    "tags": []
   },
   "outputs": [],
   "source": [
    "column_names = ['CRIM', 'ZN' , 'INDUS', 'CHAS', 'NOX', 'RM', 'AGE', 'DIS', 'RAD', 'TAX', 'PTRATIO', 'B', 'LSTAT', 'MEDV']"
   ]
  },
  {
   "cell_type": "code",
   "execution_count": 6,
   "id": "d212acce",
   "metadata": {
    "execution": {
     "iopub.execute_input": "2023-05-02T18:51:24.287914Z",
     "iopub.status.busy": "2023-05-02T18:51:24.287523Z",
     "iopub.status.idle": "2023-05-02T18:51:24.292977Z",
     "shell.execute_reply": "2023-05-02T18:51:24.291892Z"
    },
    "papermill": {
     "duration": 0.018601,
     "end_time": "2023-05-02T18:51:24.295058",
     "exception": false,
     "start_time": "2023-05-02T18:51:24.276457",
     "status": "completed"
    },
    "tags": []
   },
   "outputs": [],
   "source": [
    "dataset.columns = column_names"
   ]
  },
  {
   "cell_type": "code",
   "execution_count": 7,
   "id": "56f459e5",
   "metadata": {
    "execution": {
     "iopub.execute_input": "2023-05-02T18:51:24.316725Z",
     "iopub.status.busy": "2023-05-02T18:51:24.316344Z",
     "iopub.status.idle": "2023-05-02T18:51:24.341265Z",
     "shell.execute_reply": "2023-05-02T18:51:24.339786Z"
    },
    "papermill": {
     "duration": 0.038901,
     "end_time": "2023-05-02T18:51:24.343925",
     "exception": false,
     "start_time": "2023-05-02T18:51:24.305024",
     "status": "completed"
    },
    "tags": []
   },
   "outputs": [
    {
     "name": "stdout",
     "output_type": "stream",
     "text": [
      "<class 'pandas.core.frame.DataFrame'>\n",
      "RangeIndex: 506 entries, 0 to 505\n",
      "Data columns (total 14 columns):\n",
      " #   Column   Non-Null Count  Dtype  \n",
      "---  ------   --------------  -----  \n",
      " 0   CRIM     506 non-null    float64\n",
      " 1   ZN       506 non-null    float64\n",
      " 2   INDUS    506 non-null    float64\n",
      " 3   CHAS     506 non-null    int64  \n",
      " 4   NOX      506 non-null    float64\n",
      " 5   RM       506 non-null    float64\n",
      " 6   AGE      506 non-null    float64\n",
      " 7   DIS      506 non-null    float64\n",
      " 8   RAD      506 non-null    int64  \n",
      " 9   TAX      506 non-null    float64\n",
      " 10  PTRATIO  506 non-null    float64\n",
      " 11  B        506 non-null    float64\n",
      " 12  LSTAT    506 non-null    float64\n",
      " 13  MEDV     506 non-null    float64\n",
      "dtypes: float64(12), int64(2)\n",
      "memory usage: 55.5 KB\n"
     ]
    }
   ],
   "source": [
    "dataset.info()"
   ]
  },
  {
   "cell_type": "code",
   "execution_count": 8,
   "id": "dec95766",
   "metadata": {
    "execution": {
     "iopub.execute_input": "2023-05-02T18:51:24.365729Z",
     "iopub.status.busy": "2023-05-02T18:51:24.365321Z",
     "iopub.status.idle": "2023-05-02T18:51:24.371227Z",
     "shell.execute_reply": "2023-05-02T18:51:24.369684Z"
    },
    "papermill": {
     "duration": 0.019912,
     "end_time": "2023-05-02T18:51:24.373870",
     "exception": false,
     "start_time": "2023-05-02T18:51:24.353958",
     "status": "completed"
    },
    "tags": []
   },
   "outputs": [],
   "source": [
    "updated_column_names = ['CRIM', 'ZN' , 'INDUS', 'CHAS', 'NOX', 'RM', 'AGE', 'DIS', 'RAD', 'PTRATIO', 'LSTAT', 'MEDV']"
   ]
  },
  {
   "cell_type": "code",
   "execution_count": 9,
   "id": "80b99808",
   "metadata": {
    "execution": {
     "iopub.execute_input": "2023-05-02T18:51:24.396118Z",
     "iopub.status.busy": "2023-05-02T18:51:24.395761Z",
     "iopub.status.idle": "2023-05-02T18:51:24.403534Z",
     "shell.execute_reply": "2023-05-02T18:51:24.402176Z"
    },
    "papermill": {
     "duration": 0.021209,
     "end_time": "2023-05-02T18:51:24.405599",
     "exception": false,
     "start_time": "2023-05-02T18:51:24.384390",
     "status": "completed"
    },
    "tags": []
   },
   "outputs": [],
   "source": [
    "mean_data = []\n",
    "for i in updated_column_names:\n",
    "    mean_data.append(np.ceil(np.mean(dataset[str(i)])))"
   ]
  },
  {
   "cell_type": "code",
   "execution_count": 10,
   "id": "07df861c",
   "metadata": {
    "execution": {
     "iopub.execute_input": "2023-05-02T18:51:24.429319Z",
     "iopub.status.busy": "2023-05-02T18:51:24.428931Z",
     "iopub.status.idle": "2023-05-02T18:51:24.436518Z",
     "shell.execute_reply": "2023-05-02T18:51:24.435711Z"
    },
    "papermill": {
     "duration": 0.021714,
     "end_time": "2023-05-02T18:51:24.438509",
     "exception": false,
     "start_time": "2023-05-02T18:51:24.416795",
     "status": "completed"
    },
    "tags": []
   },
   "outputs": [],
   "source": [
    "stdev_data = []\n",
    "for i in updated_column_names:\n",
    "    stdev_data.append(np.ceil(np.std(dataset[str(i)])))"
   ]
  },
  {
   "cell_type": "code",
   "execution_count": 11,
   "id": "133a13f9",
   "metadata": {
    "execution": {
     "iopub.execute_input": "2023-05-02T18:51:24.460994Z",
     "iopub.status.busy": "2023-05-02T18:51:24.460120Z",
     "iopub.status.idle": "2023-05-02T18:51:24.467050Z",
     "shell.execute_reply": "2023-05-02T18:51:24.466158Z"
    },
    "papermill": {
     "duration": 0.02049,
     "end_time": "2023-05-02T18:51:24.469145",
     "exception": false,
     "start_time": "2023-05-02T18:51:24.448655",
     "status": "completed"
    },
    "tags": []
   },
   "outputs": [
    {
     "data": {
      "text/plain": [
       "[4.0, 12.0, 12.0, 1.0, 1.0, 7.0, 69.0, 4.0, 10.0, 19.0, 13.0, 23.0]"
      ]
     },
     "execution_count": 11,
     "metadata": {},
     "output_type": "execute_result"
    }
   ],
   "source": [
    "mean_data"
   ]
  },
  {
   "cell_type": "code",
   "execution_count": 12,
   "id": "04219909",
   "metadata": {
    "execution": {
     "iopub.execute_input": "2023-05-02T18:51:24.491361Z",
     "iopub.status.busy": "2023-05-02T18:51:24.490766Z",
     "iopub.status.idle": "2023-05-02T18:51:24.496911Z",
     "shell.execute_reply": "2023-05-02T18:51:24.495757Z"
    },
    "papermill": {
     "duration": 0.01963,
     "end_time": "2023-05-02T18:51:24.498945",
     "exception": false,
     "start_time": "2023-05-02T18:51:24.479315",
     "status": "completed"
    },
    "tags": []
   },
   "outputs": [
    {
     "data": {
      "text/plain": [
       "[9.0, 24.0, 7.0, 1.0, 1.0, 1.0, 29.0, 3.0, 9.0, 3.0, 8.0, 10.0]"
      ]
     },
     "execution_count": 12,
     "metadata": {},
     "output_type": "execute_result"
    }
   ],
   "source": [
    "stdev_data"
   ]
  },
  {
   "cell_type": "markdown",
   "id": "5d24d64d",
   "metadata": {
    "papermill": {
     "duration": 0.009829,
     "end_time": "2023-05-02T18:51:24.518980",
     "exception": false,
     "start_time": "2023-05-02T18:51:24.509151",
     "status": "completed"
    },
    "tags": []
   },
   "source": [
    "## Data Visualisation"
   ]
  },
  {
   "cell_type": "code",
   "execution_count": 13,
   "id": "0f5b3248",
   "metadata": {
    "execution": {
     "iopub.execute_input": "2023-05-02T18:51:24.541107Z",
     "iopub.status.busy": "2023-05-02T18:51:24.540448Z",
     "iopub.status.idle": "2023-05-02T18:51:25.081805Z",
     "shell.execute_reply": "2023-05-02T18:51:25.080516Z"
    },
    "papermill": {
     "duration": 0.555551,
     "end_time": "2023-05-02T18:51:25.084615",
     "exception": false,
     "start_time": "2023-05-02T18:51:24.529064",
     "status": "completed"
    },
    "tags": []
   },
   "outputs": [
    {
     "data": {
      "image/png": "[encoded data removed]",
      "text/plain": [
       "<Figure size 640x480 with 1 Axes>"
      ]
     },
     "metadata": {},
     "output_type": "display_data"
    }
   ],
   "source": [
    "import matplotlib\n",
    "import matplotlib.pyplot as plt\n",
    "import numpy as np\n",
    "\n",
    "\n",
    "labels = updated_column_names\n",
    "mean_data;\n",
    "stdev_data;\n",
    "\n",
    "x = np.arange(len(labels))\n",
    "width = 0.35  # the width of the bars\n",
    "\n",
    "fig, ax = plt.subplots()\n",
    "rects1 = ax.bar(x - width/2, mean_data, width, label='Mean')\n",
    "rects2 = ax.bar(x + width/2, stdev_data, width, label='Std')\n",
    "\n",
    "\n",
    "ax.set_ylabel('Amount')\n",
    "ax.set_title('Grouped bar chart')\n",
    "ax.set_xticks(x)\n",
    "ax.set_xticklabels(labels)\n",
    "ax.legend()\n",
    "\n",
    "\n",
    "def autolabel(rects):\n",
    "    \"\"\"Attach a text label above each bar in *rects*, displaying its height.\"\"\"\n",
    "    for rect in rects:\n",
    "        height = rect.get_height()\n",
    "        ax.annotate('{}'.format(height),\n",
    "                    xy=(rect.get_x() + rect.get_width() / 2, height),\n",
    "                    xytext=(0, 3),  # 3 points vertical offset\n",
    "                    textcoords=\"offset points\",\n",
    "                    ha='center', va='bottom')\n",
    "\n",
    "\n",
    "autolabel(rects1)\n",
    "autolabel(rects2)\n",
    "\n",
    "fig.tight_layout()\n",
    "\n",
    "plt.show()"
   ]
  },
  {
   "cell_type": "code",
   "execution_count": 14,
   "id": "c4efb756",
   "metadata": {
    "execution": {
     "iopub.execute_input": "2023-05-02T18:51:25.110190Z",
     "iopub.status.busy": "2023-05-02T18:51:25.109466Z",
     "iopub.status.idle": "2023-05-02T18:51:25.342587Z",
     "shell.execute_reply": "2023-05-02T18:51:25.341467Z"
    },
    "papermill": {
     "duration": 0.248237,
     "end_time": "2023-05-02T18:51:25.344980",
     "exception": false,
     "start_time": "2023-05-02T18:51:25.096743",
     "status": "completed"
    },
    "tags": []
   },
   "outputs": [
    {
     "data": {
      "image/png": "[encoded data removed]",
      "text/plain": [
       "<Figure size 800x600 with 1 Axes>"
      ]
     },
     "metadata": {},
     "output_type": "display_data"
    }
   ],
   "source": [
    "plt.figure(figsize = (8,6))\n",
    "plt.plot(mean_data, stdev_data)\n",
    "plt.show()"
   ]
  },
  {
   "cell_type": "markdown",
   "id": "3fc13952",
   "metadata": {
    "papermill": {
     "duration": 0.0124,
     "end_time": "2023-05-02T18:51:25.368911",
     "exception": false,
     "start_time": "2023-05-02T18:51:25.356511",
     "status": "completed"
    },
    "tags": []
   },
   "source": [
    "### Horizontal Bar Chart"
   ]
  },
  {
   "cell_type": "code",
   "execution_count": 15,
   "id": "de3612dd",
   "metadata": {
    "execution": {
     "iopub.execute_input": "2023-05-02T18:51:25.394338Z",
     "iopub.status.busy": "2023-05-02T18:51:25.393970Z",
     "iopub.status.idle": "2023-05-02T18:51:25.672346Z",
     "shell.execute_reply": "2023-05-02T18:51:25.671217Z"
    },
    "papermill": {
     "duration": 0.293782,
     "end_time": "2023-05-02T18:51:25.674815",
     "exception": false,
     "start_time": "2023-05-02T18:51:25.381033",
     "status": "completed"
    },
    "tags": []
   },
   "outputs": [
    {
     "data": {
      "image/png": "[encoded data removed]",
      "text/plain": [
       "<Figure size 640x480 with 1 Axes>"
      ]
     },
     "metadata": {},
     "output_type": "display_data"
    }
   ],
   "source": [
    "np.random.seed(42)\n",
    "\n",
    "plt.rcdefaults()\n",
    "fig, ax = plt.subplots()\n",
    "\n",
    "labels = updated_column_names\n",
    "y_pos = np.arange(len(labels))\n",
    "performance = 3 + 10 * np.random.rand(len(labels))\n",
    "error = np.random.rand(len(labels))\n",
    "\n",
    "ax.barh(y_pos, performance, xerr=error, align='center')\n",
    "ax.set_yticks(y_pos)\n",
    "ax.set_yticklabels(labels)\n",
    "ax.invert_yaxis()  # labels read top-to-bottom\n",
    "ax.set_xlabel('Performance')\n",
    "ax.set_title('Housing : Horizontal bar chart')\n",
    "\n",
    "plt.show()"
   ]
  },
  {
   "cell_type": "markdown",
   "id": "4b847677",
   "metadata": {
    "papermill": {
     "duration": 0.011686,
     "end_time": "2023-05-02T18:51:25.698406",
     "exception": false,
     "start_time": "2023-05-02T18:51:25.686720",
     "status": "completed"
    },
    "tags": []
   },
   "source": [
    "### Pie Chart"
   ]
  },
  {
   "cell_type": "code",
   "execution_count": 16,
   "id": "d2a8df9c",
   "metadata": {
    "execution": {
     "iopub.execute_input": "2023-05-02T18:51:25.723850Z",
     "iopub.status.busy": "2023-05-02T18:51:25.723001Z",
     "iopub.status.idle": "2023-05-02T18:51:26.172136Z",
     "shell.execute_reply": "2023-05-02T18:51:26.170523Z"
    },
    "papermill": {
     "duration": 0.466465,
     "end_time": "2023-05-02T18:51:26.176580",
     "exception": false,
     "start_time": "2023-05-02T18:51:25.710115",
     "status": "completed"
    },
    "tags": []
   },
   "outputs": [
    {
     "data": {
      "image/png": "[encoded data removed]",
      "text/plain": [
       "<Figure size 640x480 with 1 Axes>"
      ]
     },
     "metadata": {},
     "output_type": "display_data"
    }
   ],
   "source": [
    "labels = updated_column_names\n",
    "sizes = mean_data\n",
    "\n",
    "fig1, ax1 = plt.subplots()\n",
    "ax1.pie(sizes, labels=labels, autopct='%1.1f%%',\n",
    "        shadow=True, startangle=90)\n",
    "ax1.axis('equal')  # Equal aspect ratio (pie is a circle)\n",
    "\n",
    "plt.show()"
   ]
  },
  {
   "cell_type": "code",
   "execution_count": 17,
   "id": "c7be16d9",
   "metadata": {
    "execution": {
     "iopub.execute_input": "2023-05-02T18:51:26.210300Z",
     "iopub.status.busy": "2023-05-02T18:51:26.209437Z",
     "iopub.status.idle": "2023-05-02T18:51:26.218068Z",
     "shell.execute_reply": "2023-05-02T18:51:26.216878Z"
    },
    "papermill": {
     "duration": 0.025146,
     "end_time": "2023-05-02T18:51:26.220297",
     "exception": false,
     "start_time": "2023-05-02T18:51:26.195151",
     "status": "completed"
    },
    "tags": []
   },
   "outputs": [],
   "source": [
    "X = dataset.iloc[:, :-1].values\n",
    "y = dataset.iloc[:, -1].values"
   ]
  },
  {
   "cell_type": "code",
   "execution_count": 18,
   "id": "22657e54",
   "metadata": {
    "execution": {
     "iopub.execute_input": "2023-05-02T18:51:26.248547Z",
     "iopub.status.busy": "2023-05-02T18:51:26.247544Z",
     "iopub.status.idle": "2023-05-02T18:51:26.254934Z",
     "shell.execute_reply": "2023-05-02T18:51:26.253997Z"
    },
    "papermill": {
     "duration": 0.023822,
     "end_time": "2023-05-02T18:51:26.257014",
     "exception": false,
     "start_time": "2023-05-02T18:51:26.233192",
     "status": "completed"
    },
    "tags": []
   },
   "outputs": [
    {
     "data": {
      "text/plain": [
       "array([[6.3200e-03, 1.8000e+01, 2.3100e+00, 0.0000e+00, 5.3800e-01,\n",
       "        6.5750e+00, 6.5200e+01, 4.0900e+00, 1.0000e+00, 2.9600e+02,\n",
       "        1.5300e+01, 3.9690e+02, 4.9800e+00],\n",
       "       [2.7310e-02, 0.0000e+00, 7.0700e+00, 0.0000e+00, 4.6900e-01,\n",
       "        6.4210e+00, 7.8900e+01, 4.9671e+00, 2.0000e+00, 2.4200e+02,\n",
       "        1.7800e+01, 3.9690e+02, 9.1400e+00],\n",
       "       [2.7290e-02, 0.0000e+00, 7.0700e+00, 0.0000e+00, 4.6900e-01,\n",
       "        7.1850e+00, 6.1100e+01, 4.9671e+00, 2.0000e+00, 2.4200e+02,\n",
       "        1.7800e+01, 3.9283e+02, 4.0300e+00],\n",
       "       [3.2370e-02, 0.0000e+00, 2.1800e+00, 0.0000e+00, 4.5800e-01,\n",
       "        6.9980e+00, 4.5800e+01, 6.0622e+00, 3.0000e+00, 2.2200e+02,\n",
       "        1.8700e+01, 3.9463e+02, 2.9400e+00],\n",
       "       [6.9050e-02, 0.0000e+00, 2.1800e+00, 0.0000e+00, 4.5800e-01,\n",
       "        7.1470e+00, 5.4200e+01, 6.0622e+00, 3.0000e+00, 2.2200e+02,\n",
       "        1.8700e+01, 3.9690e+02, 5.3300e+00]])"
      ]
     },
     "execution_count": 18,
     "metadata": {},
     "output_type": "execute_result"
    }
   ],
   "source": [
    "# Feature matrix\n",
    "X[:5]"
   ]
  },
  {
   "cell_type": "code",
   "execution_count": 19,
   "id": "4037fd0b",
   "metadata": {
    "execution": {
     "iopub.execute_input": "2023-05-02T18:51:26.285781Z",
     "iopub.status.busy": "2023-05-02T18:51:26.285051Z",
     "iopub.status.idle": "2023-05-02T18:51:26.291051Z",
     "shell.execute_reply": "2023-05-02T18:51:26.289985Z"
    },
    "papermill": {
     "duration": 0.023721,
     "end_time": "2023-05-02T18:51:26.293501",
     "exception": false,
     "start_time": "2023-05-02T18:51:26.269780",
     "status": "completed"
    },
    "tags": []
   },
   "outputs": [
    {
     "data": {
      "text/plain": [
       "array([24. , 21.6, 34.7, 33.4, 36.2])"
      ]
     },
     "execution_count": 19,
     "metadata": {},
     "output_type": "execute_result"
    }
   ],
   "source": [
    "# Dependent Variable Vector\n",
    "y[:5]"
   ]
  },
  {
   "cell_type": "code",
   "execution_count": 20,
   "id": "15d53f35",
   "metadata": {
    "execution": {
     "iopub.execute_input": "2023-05-02T18:51:26.321695Z",
     "iopub.status.busy": "2023-05-02T18:51:26.321081Z",
     "iopub.status.idle": "2023-05-02T18:51:26.327748Z",
     "shell.execute_reply": "2023-05-02T18:51:26.326694Z"
    },
    "papermill": {
     "duration": 0.023112,
     "end_time": "2023-05-02T18:51:26.329781",
     "exception": false,
     "start_time": "2023-05-02T18:51:26.306669",
     "status": "completed"
    },
    "tags": []
   },
   "outputs": [
    {
     "data": {
      "text/plain": [
       "((506, 13), (506,))"
      ]
     },
     "execution_count": 20,
     "metadata": {},
     "output_type": "execute_result"
    }
   ],
   "source": [
    "(X.shape, y.shape)"
   ]
  },
  {
   "cell_type": "markdown",
   "id": "2bbeb452",
   "metadata": {
    "papermill": {
     "duration": 0.013219,
     "end_time": "2023-05-02T18:51:26.355702",
     "exception": false,
     "start_time": "2023-05-02T18:51:26.342483",
     "status": "completed"
    },
    "tags": []
   },
   "source": [
    "## Split the data into training and test sets"
   ]
  },
  {
   "cell_type": "code",
   "execution_count": 21,
   "id": "3a2fb192",
   "metadata": {
    "execution": {
     "iopub.execute_input": "2023-05-02T18:51:26.384370Z",
     "iopub.status.busy": "2023-05-02T18:51:26.383725Z",
     "iopub.status.idle": "2023-05-02T18:51:27.617788Z",
     "shell.execute_reply": "2023-05-02T18:51:27.616582Z"
    },
    "papermill": {
     "duration": 1.251626,
     "end_time": "2023-05-02T18:51:27.620312",
     "exception": false,
     "start_time": "2023-05-02T18:51:26.368686",
     "status": "completed"
    },
    "tags": []
   },
   "outputs": [],
   "source": [
    "from sklearn.model_selection import train_test_split\n",
    "\n",
    "X_train, X_test, y_train, y_test = train_test_split(X, y, test_size = 0.2)"
   ]
  },
  {
   "cell_type": "code",
   "execution_count": 22,
   "id": "11cd1c60",
   "metadata": {
    "execution": {
     "iopub.execute_input": "2023-05-02T18:51:27.648136Z",
     "iopub.status.busy": "2023-05-02T18:51:27.647780Z",
     "iopub.status.idle": "2023-05-02T18:51:27.654267Z",
     "shell.execute_reply": "2023-05-02T18:51:27.653246Z"
    },
    "papermill": {
     "duration": 0.022827,
     "end_time": "2023-05-02T18:51:27.656396",
     "exception": false,
     "start_time": "2023-05-02T18:51:27.633569",
     "status": "completed"
    },
    "tags": []
   },
   "outputs": [
    {
     "data": {
      "text/plain": [
       "((404, 13), (102, 13))"
      ]
     },
     "execution_count": 22,
     "metadata": {},
     "output_type": "execute_result"
    }
   ],
   "source": [
    "(X_train.shape, X_test.shape)"
   ]
  },
  {
   "cell_type": "code",
   "execution_count": 23,
   "id": "8d72462b",
   "metadata": {
    "execution": {
     "iopub.execute_input": "2023-05-02T18:51:27.684259Z",
     "iopub.status.busy": "2023-05-02T18:51:27.683286Z",
     "iopub.status.idle": "2023-05-02T18:51:27.689453Z",
     "shell.execute_reply": "2023-05-02T18:51:27.688440Z"
    },
    "papermill": {
     "duration": 0.022077,
     "end_time": "2023-05-02T18:51:27.691378",
     "exception": false,
     "start_time": "2023-05-02T18:51:27.669301",
     "status": "completed"
    },
    "tags": []
   },
   "outputs": [
    {
     "data": {
      "text/plain": [
       "((404,), (102,))"
      ]
     },
     "execution_count": 23,
     "metadata": {},
     "output_type": "execute_result"
    }
   ],
   "source": [
    "(y_train.shape, y_test.shape)"
   ]
  },
  {
   "cell_type": "markdown",
   "id": "aa85f8bb",
   "metadata": {
    "papermill": {
     "duration": 0.012981,
     "end_time": "2023-05-02T18:51:27.717410",
     "exception": false,
     "start_time": "2023-05-02T18:51:27.704429",
     "status": "completed"
    },
    "tags": []
   },
   "source": [
    "## Training a Decision Tree Regression Model on the Dataset"
   ]
  },
  {
   "cell_type": "code",
   "execution_count": 24,
   "id": "d1d574de",
   "metadata": {
    "execution": {
     "iopub.execute_input": "2023-05-02T18:51:27.746428Z",
     "iopub.status.busy": "2023-05-02T18:51:27.745464Z",
     "iopub.status.idle": "2023-05-02T18:51:28.035081Z",
     "shell.execute_reply": "2023-05-02T18:51:28.033977Z"
    },
    "papermill": {
     "duration": 0.30613,
     "end_time": "2023-05-02T18:51:28.037378",
     "exception": false,
     "start_time": "2023-05-02T18:51:27.731248",
     "status": "completed"
    },
    "tags": []
   },
   "outputs": [
    {
     "data": {
      "text/html": [
       "<style>#sk-container-id-1 {color: black;background-color: white;}#sk-container-id-1 pre{padding: 0;}#sk-container-id-1 div.sk-toggleable {background-color: white;}#sk-container-id-1 label.sk-toggleable__label {cursor: pointer;display: block;width: 100%;margin-bottom: 0;padding: 0.3em;box-sizing: border-box;text-align: center;}#sk-container-id-1 label.sk-toggleable__label-arrow:before {content: \"▸\";float: left;margin-right: 0.25em;color: #696969;}#sk-container-id-1 label.sk-toggleable__label-arrow:hover:before {color: black;}#sk-container-id-1 div.sk-estimator:hover label.sk-toggleable__label-arrow:before {color: black;}#sk-container-id-1 div.sk-toggleable__content {max-height: 0;max-width: 0;overflow: hidden;text-align: left;background-color: #f0f8ff;}#sk-container-id-1 div.sk-toggleable__content pre {margin: 0.2em;color: black;border-radius: 0.25em;background-color: #f0f8ff;}#sk-container-id-1 input.sk-toggleable__control:checked~div.sk-toggleable__content {max-height: 200px;max-width: 100%;overflow: auto;}#sk-container-id-1 input.sk-toggleable__control:checked~label.sk-toggleable__label-arrow:before {content: \"▾\";}#sk-container-id-1 div.sk-estimator input.sk-toggleable__control:checked~label.sk-toggleable__label {background-color: #d4ebff;}#sk-container-id-1 div.sk-label input.sk-toggleable__control:checked~label.sk-toggleable__label {background-color: #d4ebff;}#sk-container-id-1 input.sk-hidden--visually {border: 0;clip: rect(1px 1px 1px 1px);clip: rect(1px, 1px, 1px, 1px);height: 1px;margin: -1px;overflow: hidden;padding: 0;position: absolute;width: 1px;}#sk-container-id-1 div.sk-estimator {font-family: monospace;background-color: #f0f8ff;border: 1px dotted black;border-radius: 0.25em;box-sizing: border-box;margin-bottom: 0.5em;}#sk-container-id-1 div.sk-estimator:hover {background-color: #d4ebff;}#sk-container-id-1 div.sk-parallel-item::after {content: \"\";width: 100%;border-bottom: 1px solid gray;flex-grow: 1;}#sk-container-id-1 div.sk-label:hover label.sk-toggleable__label {background-color: #d4ebff;}#sk-container-id-1 div.sk-serial::before {content: \"\";position: absolute;border-left: 1px solid gray;box-sizing: border-box;top: 0;bottom: 0;left: 50%;z-index: 0;}#sk-container-id-1 div.sk-serial {display: flex;flex-direction: column;align-items: center;background-color: white;padding-right: 0.2em;padding-left: 0.2em;position: relative;}#sk-container-id-1 div.sk-item {position: relative;z-index: 1;}#sk-container-id-1 div.sk-parallel {display: flex;align-items: stretch;justify-content: center;background-color: white;position: relative;}#sk-container-id-1 div.sk-item::before, #sk-container-id-1 div.sk-parallel-item::before {content: \"\";position: absolute;border-left: 1px solid gray;box-sizing: border-box;top: 0;bottom: 0;left: 50%;z-index: -1;}#sk-container-id-1 div.sk-parallel-item {display: flex;flex-direction: column;z-index: 1;position: relative;background-color: white;}#sk-container-id-1 div.sk-parallel-item:first-child::after {align-self: flex-end;width: 50%;}#sk-container-id-1 div.sk-parallel-item:last-child::after {align-self: flex-start;width: 50%;}#sk-container-id-1 div.sk-parallel-item:only-child::after {width: 0;}#sk-container-id-1 div.sk-dashed-wrapped {border: 1px dashed gray;margin: 0 0.4em 0.5em 0.4em;box-sizing: border-box;padding-bottom: 0.4em;background-color: white;}#sk-container-id-1 div.sk-label label {font-family: monospace;font-weight: bold;display: inline-block;line-height: 1.2em;}#sk-container-id-1 div.sk-label-container {text-align: center;}#sk-container-id-1 div.sk-container {/* jupyter's `normalize.less` sets `[hidden] { display: none; }` but bootstrap.min.css set `[hidden] { display: none !important; }` so we also need the `!important` here to be able to override the default hidden behavior on the sphinx rendered scikit-learn.org. See: https://github.com/scikit-learn/scikit-learn/issues/21755 */display: inline-block !important;position: relative;}#sk-container-id-1 div.sk-text-repr-fallback {display: none;}</style><div id=\"sk-container-id-1\" class=\"sk-top-container\"><div class=\"sk-text-repr-fallback\"><pre>DecisionTreeRegressor()</pre><b>In a Jupyter environment, please rerun this cell to show the HTML representation or trust the notebook. <br />On GitHub, the HTML representation is unable to render, please try loading this page with nbviewer.org.</b></div><div class=\"sk-container\" hidden><div class=\"sk-item\"><div class=\"sk-estimator sk-toggleable\"><input class=\"sk-toggleable__control sk-hidden--visually\" id=\"sk-estimator-id-1\" type=\"checkbox\" checked><label for=\"sk-estimator-id-1\" class=\"sk-toggleable__label sk-toggleable__label-arrow\">DecisionTreeRegressor</label><div class=\"sk-toggleable__content\"><pre>DecisionTreeRegressor()</pre></div></div></div></div></div>"
      ],
      "text/plain": [
       "DecisionTreeRegressor()"
      ]
     },
     "execution_count": 24,
     "metadata": {},
     "output_type": "execute_result"
    }
   ],
   "source": [
    "from sklearn.tree import DecisionTreeRegressor\n",
    "regressor = DecisionTreeRegressor()\n",
    "regressor.fit(X_train, y_train)"
   ]
  },
  {
   "cell_type": "markdown",
   "id": "beeaa10a",
   "metadata": {
    "papermill": {
     "duration": 0.013138,
     "end_time": "2023-05-02T18:51:28.064210",
     "exception": false,
     "start_time": "2023-05-02T18:51:28.051072",
     "status": "completed"
    },
    "tags": []
   },
   "source": [
    "## Evaluating the Decision Tree Regression model"
   ]
  },
  {
   "cell_type": "code",
   "execution_count": 25,
   "id": "5fe1337e",
   "metadata": {
    "execution": {
     "iopub.execute_input": "2023-05-02T18:51:28.097240Z",
     "iopub.status.busy": "2023-05-02T18:51:28.096842Z",
     "iopub.status.idle": "2023-05-02T18:51:28.105048Z",
     "shell.execute_reply": "2023-05-02T18:51:28.103822Z"
    },
    "papermill": {
     "duration": 0.028228,
     "end_time": "2023-05-02T18:51:28.107358",
     "exception": false,
     "start_time": "2023-05-02T18:51:28.079130",
     "status": "completed"
    },
    "tags": []
   },
   "outputs": [
    {
     "data": {
      "text/plain": [
       "array([35.1])"
      ]
     },
     "execution_count": 25,
     "metadata": {},
     "output_type": "execute_result"
    }
   ],
   "source": [
    "regressor.predict([[0.00632,18.0,2.31,0,0.538,6.575,65.2,4.0900,1,296.0,15.3,396.90,4.98]])"
   ]
  },
  {
   "cell_type": "code",
   "execution_count": 26,
   "id": "2a18913d",
   "metadata": {
    "execution": {
     "iopub.execute_input": "2023-05-02T18:51:28.137245Z",
     "iopub.status.busy": "2023-05-02T18:51:28.136869Z",
     "iopub.status.idle": "2023-05-02T18:51:28.142374Z",
     "shell.execute_reply": "2023-05-02T18:51:28.141302Z"
    },
    "papermill": {
     "duration": 0.023022,
     "end_time": "2023-05-02T18:51:28.144574",
     "exception": false,
     "start_time": "2023-05-02T18:51:28.121552",
     "status": "completed"
    },
    "tags": []
   },
   "outputs": [],
   "source": [
    "from sklearn.metrics import mean_squared_error,mean_absolute_error, r2_score\n",
    "y_true = y_test\n",
    "y_pred = regressor.predict(X_test)"
   ]
  },
  {
   "cell_type": "code",
   "execution_count": 27,
   "id": "0e27e177",
   "metadata": {
    "execution": {
     "iopub.execute_input": "2023-05-02T18:51:28.174011Z",
     "iopub.status.busy": "2023-05-02T18:51:28.173599Z",
     "iopub.status.idle": "2023-05-02T18:51:28.181486Z",
     "shell.execute_reply": "2023-05-02T18:51:28.180572Z"
    },
    "papermill": {
     "duration": 0.025181,
     "end_time": "2023-05-02T18:51:28.183728",
     "exception": false,
     "start_time": "2023-05-02T18:51:28.158547",
     "status": "completed"
    },
    "tags": []
   },
   "outputs": [
    {
     "data": {
      "text/plain": [
       "20.951176470588234"
      ]
     },
     "execution_count": 27,
     "metadata": {},
     "output_type": "execute_result"
    }
   ],
   "source": [
    "mean_squared_error(y_true, y_pred)"
   ]
  },
  {
   "cell_type": "code",
   "execution_count": 28,
   "id": "51490a64",
   "metadata": {
    "execution": {
     "iopub.execute_input": "2023-05-02T18:51:28.213022Z",
     "iopub.status.busy": "2023-05-02T18:51:28.212649Z",
     "iopub.status.idle": "2023-05-02T18:51:28.220332Z",
     "shell.execute_reply": "2023-05-02T18:51:28.219192Z"
    },
    "papermill": {
     "duration": 0.024808,
     "end_time": "2023-05-02T18:51:28.222360",
     "exception": false,
     "start_time": "2023-05-02T18:51:28.197552",
     "status": "completed"
    },
    "tags": []
   },
   "outputs": [
    {
     "data": {
      "text/plain": [
       "4.577245511286043"
      ]
     },
     "execution_count": 28,
     "metadata": {},
     "output_type": "execute_result"
    }
   ],
   "source": [
    "# root mean squared error\n",
    "mean_squared_error(y_test, y_pred, squared = False)"
   ]
  },
  {
   "cell_type": "code",
   "execution_count": 29,
   "id": "d79fa902",
   "metadata": {
    "execution": {
     "iopub.execute_input": "2023-05-02T18:51:28.256739Z",
     "iopub.status.busy": "2023-05-02T18:51:28.255817Z",
     "iopub.status.idle": "2023-05-02T18:51:28.263454Z",
     "shell.execute_reply": "2023-05-02T18:51:28.262262Z"
    },
    "papermill": {
     "duration": 0.028948,
     "end_time": "2023-05-02T18:51:28.266003",
     "exception": false,
     "start_time": "2023-05-02T18:51:28.237055",
     "status": "completed"
    },
    "tags": []
   },
   "outputs": [
    {
     "data": {
      "text/plain": [
       "2.788235294117648"
      ]
     },
     "execution_count": 29,
     "metadata": {},
     "output_type": "execute_result"
    }
   ],
   "source": [
    "# Mean absolute error\n",
    "mean_absolute_error(y_true, y_pred)"
   ]
  },
  {
   "cell_type": "code",
   "execution_count": 30,
   "id": "25c85aa5",
   "metadata": {
    "execution": {
     "iopub.execute_input": "2023-05-02T18:51:28.296329Z",
     "iopub.status.busy": "2023-05-02T18:51:28.295921Z",
     "iopub.status.idle": "2023-05-02T18:51:28.303278Z",
     "shell.execute_reply": "2023-05-02T18:51:28.302220Z"
    },
    "papermill": {
     "duration": 0.025159,
     "end_time": "2023-05-02T18:51:28.305368",
     "exception": false,
     "start_time": "2023-05-02T18:51:28.280209",
     "status": "completed"
    },
    "tags": []
   },
   "outputs": [
    {
     "data": {
      "text/plain": [
       "0.740947635234286"
      ]
     },
     "execution_count": 30,
     "metadata": {},
     "output_type": "execute_result"
    }
   ],
   "source": [
    "# R^2 score\n",
    "r2_score(y_true, y_pred)"
   ]
  },
  {
   "cell_type": "markdown",
   "id": "b52735d0",
   "metadata": {
    "papermill": {
     "duration": 0.013651,
     "end_time": "2023-05-02T18:51:28.332972",
     "exception": false,
     "start_time": "2023-05-02T18:51:28.319321",
     "status": "completed"
    },
    "tags": []
   },
   "source": [
    "## Training a Random Forest Regression model on the dataset"
   ]
  },
  {
   "cell_type": "code",
   "execution_count": 31,
   "id": "2d67108a",
   "metadata": {
    "execution": {
     "iopub.execute_input": "2023-05-02T18:51:28.363137Z",
     "iopub.status.busy": "2023-05-02T18:51:28.362514Z",
     "iopub.status.idle": "2023-05-02T18:51:28.529702Z",
     "shell.execute_reply": "2023-05-02T18:51:28.528428Z"
    },
    "papermill": {
     "duration": 0.185204,
     "end_time": "2023-05-02T18:51:28.532215",
     "exception": false,
     "start_time": "2023-05-02T18:51:28.347011",
     "status": "completed"
    },
    "tags": []
   },
   "outputs": [
    {
     "data": {
      "text/html": [
       "<style>#sk-container-id-2 {color: black;background-color: white;}#sk-container-id-2 pre{padding: 0;}#sk-container-id-2 div.sk-toggleable {background-color: white;}#sk-container-id-2 label.sk-toggleable__label {cursor: pointer;display: block;width: 100%;margin-bottom: 0;padding: 0.3em;box-sizing: border-box;text-align: center;}#sk-container-id-2 label.sk-toggleable__label-arrow:before {content: \"▸\";float: left;margin-right: 0.25em;color: #696969;}#sk-container-id-2 label.sk-toggleable__label-arrow:hover:before {color: black;}#sk-container-id-2 div.sk-estimator:hover label.sk-toggleable__label-arrow:before {color: black;}#sk-container-id-2 div.sk-toggleable__content {max-height: 0;max-width: 0;overflow: hidden;text-align: left;background-color: #f0f8ff;}#sk-container-id-2 div.sk-toggleable__content pre {margin: 0.2em;color: black;border-radius: 0.25em;background-color: #f0f8ff;}#sk-container-id-2 input.sk-toggleable__control:checked~div.sk-toggleable__content {max-height: 200px;max-width: 100%;overflow: auto;}#sk-container-id-2 input.sk-toggleable__control:checked~label.sk-toggleable__label-arrow:before {content: \"▾\";}#sk-container-id-2 div.sk-estimator input.sk-toggleable__control:checked~label.sk-toggleable__label {background-color: #d4ebff;}#sk-container-id-2 div.sk-label input.sk-toggleable__control:checked~label.sk-toggleable__label {background-color: #d4ebff;}#sk-container-id-2 input.sk-hidden--visually {border: 0;clip: rect(1px 1px 1px 1px);clip: rect(1px, 1px, 1px, 1px);height: 1px;margin: -1px;overflow: hidden;padding: 0;position: absolute;width: 1px;}#sk-container-id-2 div.sk-estimator {font-family: monospace;background-color: #f0f8ff;border: 1px dotted black;border-radius: 0.25em;box-sizing: border-box;margin-bottom: 0.5em;}#sk-container-id-2 div.sk-estimator:hover {background-color: #d4ebff;}#sk-container-id-2 div.sk-parallel-item::after {content: \"\";width: 100%;border-bottom: 1px solid gray;flex-grow: 1;}#sk-container-id-2 div.sk-label:hover label.sk-toggleable__label {background-color: #d4ebff;}#sk-container-id-2 div.sk-serial::before {content: \"\";position: absolute;border-left: 1px solid gray;box-sizing: border-box;top: 0;bottom: 0;left: 50%;z-index: 0;}#sk-container-id-2 div.sk-serial {display: flex;flex-direction: column;align-items: center;background-color: white;padding-right: 0.2em;padding-left: 0.2em;position: relative;}#sk-container-id-2 div.sk-item {position: relative;z-index: 1;}#sk-container-id-2 div.sk-parallel {display: flex;align-items: stretch;justify-content: center;background-color: white;position: relative;}#sk-container-id-2 div.sk-item::before, #sk-container-id-2 div.sk-parallel-item::before {content: \"\";position: absolute;border-left: 1px solid gray;box-sizing: border-box;top: 0;bottom: 0;left: 50%;z-index: -1;}#sk-container-id-2 div.sk-parallel-item {display: flex;flex-direction: column;z-index: 1;position: relative;background-color: white;}#sk-container-id-2 div.sk-parallel-item:first-child::after {align-self: flex-end;width: 50%;}#sk-container-id-2 div.sk-parallel-item:last-child::after {align-self: flex-start;width: 50%;}#sk-container-id-2 div.sk-parallel-item:only-child::after {width: 0;}#sk-container-id-2 div.sk-dashed-wrapped {border: 1px dashed gray;margin: 0 0.4em 0.5em 0.4em;box-sizing: border-box;padding-bottom: 0.4em;background-color: white;}#sk-container-id-2 div.sk-label label {font-family: monospace;font-weight: bold;display: inline-block;line-height: 1.2em;}#sk-container-id-2 div.sk-label-container {text-align: center;}#sk-container-id-2 div.sk-container {/* jupyter's `normalize.less` sets `[hidden] { display: none; }` but bootstrap.min.css set `[hidden] { display: none !important; }` so we also need the `!important` here to be able to override the default hidden behavior on the sphinx rendered scikit-learn.org. See: https://github.com/scikit-learn/scikit-learn/issues/21755 */display: inline-block !important;position: relative;}#sk-container-id-2 div.sk-text-repr-fallback {display: none;}</style><div id=\"sk-container-id-2\" class=\"sk-top-container\"><div class=\"sk-text-repr-fallback\"><pre>RandomForestRegressor(n_estimators=10)</pre><b>In a Jupyter environment, please rerun this cell to show the HTML representation or trust the notebook. <br />On GitHub, the HTML representation is unable to render, please try loading this page with nbviewer.org.</b></div><div class=\"sk-container\" hidden><div class=\"sk-item\"><div class=\"sk-estimator sk-toggleable\"><input class=\"sk-toggleable__control sk-hidden--visually\" id=\"sk-estimator-id-2\" type=\"checkbox\" checked><label for=\"sk-estimator-id-2\" class=\"sk-toggleable__label sk-toggleable__label-arrow\">RandomForestRegressor</label><div class=\"sk-toggleable__content\"><pre>RandomForestRegressor(n_estimators=10)</pre></div></div></div></div></div>"
      ],
      "text/plain": [
       "RandomForestRegressor(n_estimators=10)"
      ]
     },
     "execution_count": 31,
     "metadata": {},
     "output_type": "execute_result"
    }
   ],
   "source": [
    "from sklearn.ensemble import RandomForestRegressor\n",
    "regressor = RandomForestRegressor(n_estimators = 10)\n",
    "regressor.fit(X_train, y_train)"
   ]
  },
  {
   "cell_type": "markdown",
   "id": "467b1726",
   "metadata": {
    "papermill": {
     "duration": 0.013958,
     "end_time": "2023-05-02T18:51:28.560462",
     "exception": false,
     "start_time": "2023-05-02T18:51:28.546504",
     "status": "completed"
    },
    "tags": []
   },
   "source": [
    "## Evaluating the Random Forest Regression model"
   ]
  },
  {
   "cell_type": "code",
   "execution_count": 32,
   "id": "95fcc6dd",
   "metadata": {
    "execution": {
     "iopub.execute_input": "2023-05-02T18:51:28.590437Z",
     "iopub.status.busy": "2023-05-02T18:51:28.590078Z",
     "iopub.status.idle": "2023-05-02T18:51:28.598376Z",
     "shell.execute_reply": "2023-05-02T18:51:28.597254Z"
    },
    "papermill": {
     "duration": 0.026313,
     "end_time": "2023-05-02T18:51:28.600873",
     "exception": false,
     "start_time": "2023-05-02T18:51:28.574560",
     "status": "completed"
    },
    "tags": []
   },
   "outputs": [],
   "source": [
    "from sklearn.metrics import mean_squared_error,mean_absolute_error, r2_score\n",
    "y_true = y_test\n",
    "y_pred = regressor.predict(X_test)"
   ]
  },
  {
   "cell_type": "code",
   "execution_count": 33,
   "id": "1a3c09ea",
   "metadata": {
    "execution": {
     "iopub.execute_input": "2023-05-02T18:51:28.631979Z",
     "iopub.status.busy": "2023-05-02T18:51:28.631484Z",
     "iopub.status.idle": "2023-05-02T18:51:28.639760Z",
     "shell.execute_reply": "2023-05-02T18:51:28.638533Z"
    },
    "papermill": {
     "duration": 0.026016,
     "end_time": "2023-05-02T18:51:28.641840",
     "exception": false,
     "start_time": "2023-05-02T18:51:28.615824",
     "status": "completed"
    },
    "tags": []
   },
   "outputs": [
    {
     "data": {
      "text/plain": [
       "19.509719607843135"
      ]
     },
     "execution_count": 33,
     "metadata": {},
     "output_type": "execute_result"
    }
   ],
   "source": [
    "mean_squared_error(y_true, y_pred)"
   ]
  },
  {
   "cell_type": "code",
   "execution_count": 34,
   "id": "de7157cc",
   "metadata": {
    "execution": {
     "iopub.execute_input": "2023-05-02T18:51:28.673451Z",
     "iopub.status.busy": "2023-05-02T18:51:28.673088Z",
     "iopub.status.idle": "2023-05-02T18:51:28.680831Z",
     "shell.execute_reply": "2023-05-02T18:51:28.679709Z"
    },
    "papermill": {
     "duration": 0.025876,
     "end_time": "2023-05-02T18:51:28.682910",
     "exception": false,
     "start_time": "2023-05-02T18:51:28.657034",
     "status": "completed"
    },
    "tags": []
   },
   "outputs": [
    {
     "data": {
      "text/plain": [
       "4.416980824934962"
      ]
     },
     "execution_count": 34,
     "metadata": {},
     "output_type": "execute_result"
    }
   ],
   "source": [
    "mean_squared_error(y_true, y_pred, squared = False)"
   ]
  },
  {
   "cell_type": "code",
   "execution_count": 35,
   "id": "9af77086",
   "metadata": {
    "execution": {
     "iopub.execute_input": "2023-05-02T18:51:28.713585Z",
     "iopub.status.busy": "2023-05-02T18:51:28.713095Z",
     "iopub.status.idle": "2023-05-02T18:51:28.720324Z",
     "shell.execute_reply": "2023-05-02T18:51:28.719306Z"
    },
    "papermill": {
     "duration": 0.025107,
     "end_time": "2023-05-02T18:51:28.722536",
     "exception": false,
     "start_time": "2023-05-02T18:51:28.697429",
     "status": "completed"
    },
    "tags": []
   },
   "outputs": [
    {
     "data": {
      "text/plain": [
       "2.5201960784313724"
      ]
     },
     "execution_count": 35,
     "metadata": {},
     "output_type": "execute_result"
    }
   ],
   "source": [
    "mean_absolute_error(y_true, y_pred)"
   ]
  },
  {
   "cell_type": "code",
   "execution_count": 36,
   "id": "97ce811d",
   "metadata": {
    "execution": {
     "iopub.execute_input": "2023-05-02T18:51:28.754018Z",
     "iopub.status.busy": "2023-05-02T18:51:28.753615Z",
     "iopub.status.idle": "2023-05-02T18:51:28.760909Z",
     "shell.execute_reply": "2023-05-02T18:51:28.759873Z"
    },
    "papermill": {
     "duration": 0.025154,
     "end_time": "2023-05-02T18:51:28.762884",
     "exception": false,
     "start_time": "2023-05-02T18:51:28.737730",
     "status": "completed"
    },
    "tags": []
   },
   "outputs": [
    {
     "data": {
      "text/plain": [
       "0.7587706347935752"
      ]
     },
     "execution_count": 36,
     "metadata": {},
     "output_type": "execute_result"
    }
   ],
   "source": [
    "r2_score(y_true, y_pred)"
   ]
  },
  {
   "cell_type": "markdown",
   "id": "5f005f97",
   "metadata": {
    "papermill": {
     "duration": 0.014319,
     "end_time": "2023-05-02T18:51:28.792264",
     "exception": false,
     "start_time": "2023-05-02T18:51:28.777945",
     "status": "completed"
    },
    "tags": []
   },
   "source": [
    "Overall, the Random Forest Regressor outperforms the Decision Tree Regressor by a significant margin."
   ]
  }
 ],
 "metadata": {
  "kernelspec": {
   "display_name": "Python 3",
   "language": "python",
   "name": "python3"
  },
  "language_info": {
   "codemirror_mode": {
    "name": "ipython",
    "version": 3
   },
   "file_extension": ".py",
   "mimetype": "text/x-python",
   "name": "python",
   "nbconvert_exporter": "python",
   "pygments_lexer": "ipython3",
   "version": "3.10.10"
  },
  "papermill": {
   "default_parameters": {},
   "duration": 16.980278,
   "end_time": "2023-05-02T18:51:29.828441",
   "environment_variables": {},
   "exception": null,
   "input_path": "__notebook__.ipynb",
   "output_path": "__notebook__.ipynb",
   "parameters": {},
   "start_time": "2023-05-02T18:51:12.848163",
   "version": "2.4.0"
  }
 },
 "nbformat": 4,
 "nbformat_minor": 5
}
